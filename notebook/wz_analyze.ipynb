{
 "cells": [
  {
   "cell_type": "markdown",
   "metadata": {},
   "source": [
    "# wz 파일 분석 (Base.wz)"
   ]
  },
  {
   "cell_type": "markdown",
   "metadata": {},
   "source": [
    "## 패키지 로드"
   ]
  },
  {
   "cell_type": "code",
   "execution_count": 1,
   "metadata": {},
   "outputs": [],
   "source": [
    "import os\n",
    "import json"
   ]
  },
  {
   "cell_type": "markdown",
   "metadata": {},
   "source": [
    "## json 로드"
   ]
  },
  {
   "cell_type": "code",
   "execution_count": 24,
   "metadata": {},
   "outputs": [],
   "source": [
    "base_path = os.path.join('.')\n",
    "json_path = os.path.join(base_path, 'base_wz_code.json')\n",
    "\n",
    "with open(json_path) as f:\n",
    "    wz_object = json.load(f)"
   ]
  },
  {
   "cell_type": "markdown",
   "metadata": {},
   "source": [
    "## 각 depth별 key값"
   ]
  },
  {
   "cell_type": "code",
   "execution_count": 31,
   "metadata": {},
   "outputs": [
    {
     "name": "stdout",
     "output_type": "stream",
     "text": [
      "출력 포멧: {file name}: {resource 개수}\n",
      "Base.wz: 2\n",
      "  Base.wz.Character: 42\n",
      "    Base.wz.Character.Accessory: 1954\n",
      "    Base.wz.Character.Afterimage: 23\n",
      "    Base.wz.Character.Android: 127\n",
      "    Base.wz.Character.ArcaneForce: 7\n",
      "    Base.wz.Character.AuthenticForce: 3\n",
      "    Base.wz.Character.Bits: 79\n",
      "    Base.wz.Character.Cap: 2374\n",
      "    Base.wz.Character.Cape: 784\n",
      "    Base.wz.Character.Coat: 652\n",
      "    Base.wz.Character.Dragon: 16\n",
      "    Base.wz.Character.Face: 5280\n",
      "    Base.wz.Character.Glove: 500\n",
      "    Base.wz.Character.Hair: 8430\n",
      "    Base.wz.Character.Longcoat: 1780\n",
      "    Base.wz.Character.Mechanic: 23\n",
      "    Base.wz.Character.Pants: 555\n",
      "    Base.wz.Character.PetEquip: 374\n",
      "    Base.wz.Character.Ring: 591\n",
      "    Base.wz.Character.Shield: 99\n",
      "    Base.wz.Character.Shoes: 1179\n",
      "    Base.wz.Character.TamingMob: 920\n",
      "    Base.wz.Character.Weapon: 4683\n",
      "  Base.wz.Effect: 79\n",
      "  Base.wz.Etc: 214\n",
      "    Base.wz.Etc.Achievement: 1\n",
      "      Base.wz.Etc.Achievement.AchievementData: 1138\n",
      "    Base.wz.Etc.Android: 81\n",
      "  Base.wz.Item: 4\n",
      "    Base.wz.Item.Cash: 43\n",
      "    Base.wz.Item.Consume: 50\n",
      "    Base.wz.Item.Etc: 23\n",
      "    Base.wz.Item.Install: 26\n",
      "    Base.wz.Item.Pet: 459\n",
      "    Base.wz.Item.Special: 4\n",
      "  Base.wz.Map: 5\n",
      "    Base.wz.Map.Back: 332\n",
      "    Base.wz.Map.Map: 4\n",
      "      Base.wz.Map.Map.Map0: 87\n",
      "      Base.wz.Map.Map.Map1: 876\n",
      "      Base.wz.Map.Map.Map2: 1754\n",
      "      Base.wz.Map.Map.Map3: 1746\n",
      "      Base.wz.Map.Map.Map4: 1511\n",
      "      Base.wz.Map.Map.Map5: 1\n",
      "      Base.wz.Map.Map.Map6: 31\n",
      "      Base.wz.Map.Map.Map9: 7261\n",
      "    Base.wz.Map.Obj: 228\n",
      "    Base.wz.Map.Tile: 178\n",
      "    Base.wz.Map.WorldMap: 76\n",
      "  Base.wz.Mob: 7512\n",
      "    Base.wz.Mob.QuestCountGroup: 96\n",
      "  Base.wz.Morph: 186\n",
      "  Base.wz.Npc: 8820\n",
      "  Base.wz.Quest: 8\n",
      "  Base.wz.Reactor: 780\n",
      "  Base.wz.Skill: 271\n",
      "    Base.wz.Skill.Dragon: 10\n",
      "    Base.wz.Skill.MobSkill: 129\n",
      "  Base.wz.Sound: 111\n",
      "  Base.wz.String: 24\n",
      "  Base.wz.TamingMob: 22\n",
      "  Base.wz.UI: 71\n",
      "총 아이템 개수 (prefix = 'Base.wz.Character'): 30475\n"
     ]
    }
   ],
   "source": [
    "total_item_num = 0\n",
    "\n",
    "def print_structure(\n",
    "    obj: dict,\n",
    "    name: str,\n",
    "    depth: int):\n",
    "    cnt = 0\n",
    "    global total_item_num\n",
    "    for key in obj:\n",
    "        if len(obj[key]) > 0:\n",
    "            cnt += 1\n",
    "    if len(obj) - cnt > 0:\n",
    "        print(\" \" * depth * 2 + f\"{name}: {len(obj) - cnt}\")\n",
    "        if \"Base.wz.Character\" in name:\n",
    "            total_item_num += len(obj) - cnt\n",
    "    for key in obj:\n",
    "        print_structure(obj[key], name + ('.' if depth != -1 else '')  + key, depth + 1)\n",
    "\n",
    "print(\"출력 포멧: {file name}: {resource 개수}\")\n",
    "print_structure(wz_object, \"\", -1)\n",
    "print(f\"총 아이템 개수 (prefix = 'Base.wz.Character'): {total_item_num}\")"
   ]
  }
 ],
 "metadata": {
  "kernelspec": {
   "display_name": "Python 3.8.10 ('.venv': poetry)",
   "language": "python",
   "name": "python3"
  },
  "language_info": {
   "codemirror_mode": {
    "name": "ipython",
    "version": 3
   },
   "file_extension": ".py",
   "mimetype": "text/x-python",
   "name": "python",
   "nbconvert_exporter": "python",
   "pygments_lexer": "ipython3",
   "version": "3.8.10"
  },
  "orig_nbformat": 4,
  "vscode": {
   "interpreter": {
    "hash": "5dbb4cb03560fd2191d1fdfcff46724f33e4fdf7079e311ecd1299921b58bf84"
   }
  }
 },
 "nbformat": 4,
 "nbformat_minor": 2
}
